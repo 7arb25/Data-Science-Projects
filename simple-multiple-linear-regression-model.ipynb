{
 "cells": [
  {
   "cell_type": "markdown",
   "id": "5a4ae66d",
   "metadata": {
    "papermill": {
     "duration": 0.006513,
     "end_time": "2024-12-30T19:08:45.104138",
     "exception": false,
     "start_time": "2024-12-30T19:08:45.097625",
     "status": "completed"
    },
    "tags": []
   },
   "source": [
    "# Task 1: Introduction"
   ]
  },
  {
   "cell_type": "markdown",
   "id": "1a96eb8e",
   "metadata": {
    "papermill": {
     "duration": 0.005475,
     "end_time": "2024-12-30T19:08:45.115604",
     "exception": false,
     "start_time": "2024-12-30T19:08:45.110129",
     "status": "completed"
    },
    "tags": []
   },
   "source": [
    "This Project Is Derived From One Of Coursera Guided Projects Which I Completed With Verification Link Below "
   ]
  },
  {
   "cell_type": "markdown",
   "id": "8a9949a0",
   "metadata": {
    "papermill": {
     "duration": 0.00536,
     "end_time": "2024-12-30T19:08:45.126562",
     "exception": false,
     "start_time": "2024-12-30T19:08:45.121202",
     "status": "completed"
    },
    "tags": []
   },
   "source": [
    "https://www.coursera.org/account/accomplishments/verify/91L3DAOIB9FP"
   ]
  },
  {
   "cell_type": "markdown",
   "id": "8531ade0",
   "metadata": {
    "papermill": {
     "duration": 0.005661,
     "end_time": "2024-12-30T19:08:45.137938",
     "exception": false,
     "start_time": "2024-12-30T19:08:45.132277",
     "status": "completed"
    },
    "tags": []
   },
   "source": [
    "We Are Here Producing Artificial Data With Added Noise To Simulat Real World Problems"
   ]
  },
  {
   "cell_type": "code",
   "execution_count": 1,
   "id": "b5bf7cb5",
   "metadata": {
    "execution": {
     "iopub.execute_input": "2024-12-30T19:08:45.150590Z",
     "iopub.status.busy": "2024-12-30T19:08:45.150190Z",
     "iopub.status.idle": "2024-12-30T19:08:45.157408Z",
     "shell.execute_reply": "2024-12-30T19:08:45.156360Z"
    },
    "papermill": {
     "duration": 0.015776,
     "end_time": "2024-12-30T19:08:45.159351",
     "exception": false,
     "start_time": "2024-12-30T19:08:45.143575",
     "status": "completed"
    },
    "tags": []
   },
   "outputs": [],
   "source": [
    "%matplotlib inline\n",
    "\n",
    "import numpy as np\n",
    "import matplotlib.pyplot as plt"
   ]
  },
  {
   "cell_type": "markdown",
   "id": "8f05433c",
   "metadata": {
    "papermill": {
     "duration": 0.00551,
     "end_time": "2024-12-30T19:08:45.172316",
     "exception": false,
     "start_time": "2024-12-30T19:08:45.166806",
     "status": "completed"
    },
    "tags": []
   },
   "source": [
    "# Task 2: Dataset\n",
    "\n",
    "Real estate agent table:"
   ]
  },
  {
   "cell_type": "markdown",
   "id": "3437ab80",
   "metadata": {
    "papermill": {
     "duration": 0.005378,
     "end_time": "2024-12-30T19:08:45.183817",
     "exception": false,
     "start_time": "2024-12-30T19:08:45.178439",
     "status": "completed"
    },
    "tags": []
   },
   "source": [
    "|Area|Distance|Price|\n",
    "|---|---|---|\n",
    "|70|3|21200|\n",
    "|50|1|22010|\n",
    "|120|9|24305|\n",
    "|100|2|31500|\n",
    "\n",
    "You can write the relationship with a 2-variable linear equation:\n",
    "\n",
    "$\n",
    "\\begin{equation}\n",
    "y = b + w_1.x_1 + w_2.x_2\n",
    "\\end{equation}\n",
    "$\n",
    "\n",
    "In a vector form:\n",
    "\n",
    "$\n",
    "\\begin{equation}\n",
    "y = b + (w_1 w_2).\\binom{x_1}{x_2}\n",
    "\\end{equation}\n",
    "$\n",
    "\n",
    "Where\n",
    "$\n",
    "\\begin{equation}\n",
    "W = (w_1 w_2)\n",
    "\\end{equation}\n",
    "$\n",
    "and\n",
    "$\n",
    "\\begin{equation}\n",
    "X = \\binom{x_1}{x_2}\n",
    "\\end{equation}\n",
    "$"
   ]
  },
  {
   "cell_type": "code",
   "execution_count": 2,
   "id": "b6bf8174",
   "metadata": {
    "execution": {
     "iopub.execute_input": "2024-12-30T19:08:45.196494Z",
     "iopub.status.busy": "2024-12-30T19:08:45.196101Z",
     "iopub.status.idle": "2024-12-30T19:08:45.201436Z",
     "shell.execute_reply": "2024-12-30T19:08:45.200539Z"
    },
    "papermill": {
     "duration": 0.013562,
     "end_time": "2024-12-30T19:08:45.202973",
     "exception": false,
     "start_time": "2024-12-30T19:08:45.189411",
     "status": "completed"
    },
    "tags": []
   },
   "outputs": [],
   "source": [
    "def generate_examples(num=1000):\n",
    "    w=[1.0,-3.0]\n",
    "    b=1.0\n",
    "    w=np.reshape(w,(2,1))\n",
    "    x=np.random.randn(num,2)\n",
    "    y=np.dot(x,w)+1\n",
    "    y=np.reshape(y,(num,1))+np.random.randn() #adding some noise to simulate real life problems \n",
    "    return x,y"
   ]
  },
  {
   "cell_type": "code",
   "execution_count": 3,
   "id": "9fbf9613",
   "metadata": {
    "execution": {
     "iopub.execute_input": "2024-12-30T19:08:45.215857Z",
     "iopub.status.busy": "2024-12-30T19:08:45.215452Z",
     "iopub.status.idle": "2024-12-30T19:08:45.220140Z",
     "shell.execute_reply": "2024-12-30T19:08:45.219077Z"
    },
    "papermill": {
     "duration": 0.013022,
     "end_time": "2024-12-30T19:08:45.221870",
     "exception": false,
     "start_time": "2024-12-30T19:08:45.208848",
     "status": "completed"
    },
    "tags": []
   },
   "outputs": [],
   "source": [
    "x,y=generate_examples()"
   ]
  },
  {
   "cell_type": "code",
   "execution_count": 4,
   "id": "f2a75daf",
   "metadata": {
    "execution": {
     "iopub.execute_input": "2024-12-30T19:08:45.234967Z",
     "iopub.status.busy": "2024-12-30T19:08:45.234564Z",
     "iopub.status.idle": "2024-12-30T19:08:45.240209Z",
     "shell.execute_reply": "2024-12-30T19:08:45.238973Z"
    },
    "papermill": {
     "duration": 0.013946,
     "end_time": "2024-12-30T19:08:45.241805",
     "exception": false,
     "start_time": "2024-12-30T19:08:45.227859",
     "status": "completed"
    },
    "tags": []
   },
   "outputs": [
    {
     "name": "stdout",
     "output_type": "stream",
     "text": [
      "(1000, 2) (1000, 1)\n"
     ]
    }
   ],
   "source": [
    "print(x.shape,y.shape)"
   ]
  },
  {
   "cell_type": "code",
   "execution_count": 5,
   "id": "3480680d",
   "metadata": {
    "execution": {
     "iopub.execute_input": "2024-12-30T19:08:45.255723Z",
     "iopub.status.busy": "2024-12-30T19:08:45.255320Z",
     "iopub.status.idle": "2024-12-30T19:08:45.261485Z",
     "shell.execute_reply": "2024-12-30T19:08:45.260372Z"
    },
    "papermill": {
     "duration": 0.015065,
     "end_time": "2024-12-30T19:08:45.263028",
     "exception": false,
     "start_time": "2024-12-30T19:08:45.247963",
     "status": "completed"
    },
    "tags": []
   },
   "outputs": [
    {
     "name": "stdout",
     "output_type": "stream",
     "text": [
      "[-2.10069072  1.56950551] [-5.10616194]\n"
     ]
    }
   ],
   "source": [
    "print(x[0],y[0])"
   ]
  },
  {
   "cell_type": "markdown",
   "id": "ba647519",
   "metadata": {
    "papermill": {
     "duration": 0.006083,
     "end_time": "2024-12-30T19:08:45.275151",
     "exception": false,
     "start_time": "2024-12-30T19:08:45.269068",
     "status": "completed"
    },
    "tags": []
   },
   "source": [
    "# Task 3: Initialize Parameters"
   ]
  },
  {
   "cell_type": "markdown",
   "id": "86eef1fb",
   "metadata": {
    "papermill": {
     "duration": 0.005847,
     "end_time": "2024-12-30T19:08:45.287247",
     "exception": false,
     "start_time": "2024-12-30T19:08:45.281400",
     "status": "completed"
    },
    "tags": []
   },
   "source": [
    "The loss over **m** examples:\n",
    "\n",
    "$\n",
    "\\begin{equation}\n",
    "J = \\frac{1}{2m} \\sum_{i=1}^{m} (y - \\hat{y})^2\n",
    "\\end{equation}\n",
    "$\n",
    "\n",
    "The objective of the gradient descent algorithm is to minimize this loss value.\n",
    "\n",
    "Gradient Descent Objective is to \n",
    "$\n",
    "\\begin{equation}\n",
    "min(J)\n",
    "\\end{equation}\n",
    "$"
   ]
  },
  {
   "cell_type": "code",
   "execution_count": 6,
   "id": "91ffcda7",
   "metadata": {
    "execution": {
     "iopub.execute_input": "2024-12-30T19:08:45.300583Z",
     "iopub.status.busy": "2024-12-30T19:08:45.300162Z",
     "iopub.status.idle": "2024-12-30T19:08:45.305018Z",
     "shell.execute_reply": "2024-12-30T19:08:45.303930Z"
    },
    "papermill": {
     "duration": 0.013646,
     "end_time": "2024-12-30T19:08:45.306814",
     "exception": false,
     "start_time": "2024-12-30T19:08:45.293168",
     "status": "completed"
    },
    "tags": []
   },
   "outputs": [],
   "source": [
    "class Model():\n",
    "    def __init__(self,num_features):\n",
    "        self.num_features=num_features\n",
    "        self.w=np.random.randn(num_features,1)\n",
    "        self.b=np.random.randn()"
   ]
  },
  {
   "cell_type": "code",
   "execution_count": 7,
   "id": "bf60e771",
   "metadata": {
    "execution": {
     "iopub.execute_input": "2024-12-30T19:08:45.320402Z",
     "iopub.status.busy": "2024-12-30T19:08:45.320051Z",
     "iopub.status.idle": "2024-12-30T19:08:45.325870Z",
     "shell.execute_reply": "2024-12-30T19:08:45.324894Z"
    },
    "papermill": {
     "duration": 0.014285,
     "end_time": "2024-12-30T19:08:45.327339",
     "exception": false,
     "start_time": "2024-12-30T19:08:45.313054",
     "status": "completed"
    },
    "tags": []
   },
   "outputs": [
    {
     "name": "stdout",
     "output_type": "stream",
     "text": [
      "[[-0.88880842]\n",
      " [ 0.18862853]]\n",
      "0.29783163555318837\n"
     ]
    }
   ],
   "source": [
    "model=Model(2)\n",
    "print(model.w)\n",
    "print(model.b)"
   ]
  },
  {
   "cell_type": "markdown",
   "id": "a07e2857",
   "metadata": {
    "papermill": {
     "duration": 0.006091,
     "end_time": "2024-12-30T19:08:45.339863",
     "exception": false,
     "start_time": "2024-12-30T19:08:45.333772",
     "status": "completed"
    },
    "tags": []
   },
   "source": [
    "# Task 4: Forward Pass"
   ]
  },
  {
   "cell_type": "markdown",
   "id": "d22bf3fa",
   "metadata": {
    "papermill": {
     "duration": 0.005894,
     "end_time": "2024-12-30T19:08:45.352033",
     "exception": false,
     "start_time": "2024-12-30T19:08:45.346139",
     "status": "completed"
    },
    "tags": []
   },
   "source": [
    "The gradient descent algorithm can be simplified in 4 steps:\n",
    "\n",
    "1. Get predictions y_hat for X with current values of W and b.\n",
    "2. Compute the loss between y and y_hat\n",
    "3. Find gradients of the loss with respect to parameters W and b\n",
    "4. Update the values of W and b by subtracting the gradient values obtained in the previous step\n",
    "\n",
    "Let's simplify our linear equation a bit more for an example:\n",
    "$\n",
    "\\begin{equation}\n",
    "y = wx\n",
    "\\end{equation}\n",
    "$\n",
    "\n",
    "Let's plot J as a function of w\n",
    "\n",
    "![Loss vs Param](JvsW.png)\n",
    "\n",
    "The gradients of loss with respect to w:\n",
    "\n",
    "\\begin{equation}\n",
    "\\frac{dJ}{dw} = \\frac{\\delta{J}}{\\delta{w}} = \\lim_{\\epsilon \\to 0} \\frac{J(w + \\epsilon) - J(w)}{\\epsilon}\n",
    "\\end{equation}"
   ]
  },
  {
   "cell_type": "code",
   "execution_count": 8,
   "id": "8103cbeb",
   "metadata": {
    "execution": {
     "iopub.execute_input": "2024-12-30T19:08:45.365614Z",
     "iopub.status.busy": "2024-12-30T19:08:45.365213Z",
     "iopub.status.idle": "2024-12-30T19:08:45.369880Z",
     "shell.execute_reply": "2024-12-30T19:08:45.368785Z"
    },
    "papermill": {
     "duration": 0.013697,
     "end_time": "2024-12-30T19:08:45.371734",
     "exception": false,
     "start_time": "2024-12-30T19:08:45.358037",
     "status": "completed"
    },
    "tags": []
   },
   "outputs": [],
   "source": [
    "class Model(Model):\n",
    "    def forward_pass(self,x):\n",
    "        y_hat=self.b+np.dot(x,self.w)\n",
    "        return y_hat"
   ]
  },
  {
   "cell_type": "code",
   "execution_count": 9,
   "id": "d13f14a0",
   "metadata": {
    "execution": {
     "iopub.execute_input": "2024-12-30T19:08:45.385371Z",
     "iopub.status.busy": "2024-12-30T19:08:45.385026Z",
     "iopub.status.idle": "2024-12-30T19:08:45.390158Z",
     "shell.execute_reply": "2024-12-30T19:08:45.388914Z"
    },
    "papermill": {
     "duration": 0.013671,
     "end_time": "2024-12-30T19:08:45.391705",
     "exception": false,
     "start_time": "2024-12-30T19:08:45.378034",
     "status": "completed"
    },
    "tags": []
   },
   "outputs": [
    {
     "name": "stdout",
     "output_type": "stream",
     "text": [
      "(1000, 1) [-5.10616194]\n"
     ]
    }
   ],
   "source": [
    "y_hat=Model(2).forward_pass(x)\n",
    "print(y_hat.shape,y[0])"
   ]
  },
  {
   "cell_type": "markdown",
   "id": "4189a689",
   "metadata": {
    "papermill": {
     "duration": 0.005984,
     "end_time": "2024-12-30T19:08:45.403897",
     "exception": false,
     "start_time": "2024-12-30T19:08:45.397913",
     "status": "completed"
    },
    "tags": []
   },
   "source": [
    "# Task 5: Compute Loss\n",
    "\n",
    "The loss over **m** examples:\n",
    "\n",
    "$\n",
    "\\begin{equation}\n",
    "J = \\frac{1}{2m} \\sum_{i=1}^{m} (y - \\hat{y})^2\n",
    "\\end{equation}\n",
    "$"
   ]
  },
  {
   "cell_type": "code",
   "execution_count": 10,
   "id": "5fde70cc",
   "metadata": {
    "execution": {
     "iopub.execute_input": "2024-12-30T19:08:45.417490Z",
     "iopub.status.busy": "2024-12-30T19:08:45.417102Z",
     "iopub.status.idle": "2024-12-30T19:08:45.421956Z",
     "shell.execute_reply": "2024-12-30T19:08:45.420764Z"
    },
    "papermill": {
     "duration": 0.013608,
     "end_time": "2024-12-30T19:08:45.423692",
     "exception": false,
     "start_time": "2024-12-30T19:08:45.410084",
     "status": "completed"
    },
    "tags": []
   },
   "outputs": [],
   "source": [
    "class Model(Model):\n",
    "    def compute_loss(self,y_hat,y_true):\n",
    "        return (np.sum(np.square(y_true-y_hat))/(2*y_true.shape[0]))"
   ]
  },
  {
   "cell_type": "code",
   "execution_count": 11,
   "id": "731a3a35",
   "metadata": {
    "execution": {
     "iopub.execute_input": "2024-12-30T19:08:45.437650Z",
     "iopub.status.busy": "2024-12-30T19:08:45.437251Z",
     "iopub.status.idle": "2024-12-30T19:08:45.442020Z",
     "shell.execute_reply": "2024-12-30T19:08:45.441093Z"
    },
    "papermill": {
     "duration": 0.013425,
     "end_time": "2024-12-30T19:08:45.443564",
     "exception": false,
     "start_time": "2024-12-30T19:08:45.430139",
     "status": "completed"
    },
    "tags": []
   },
   "outputs": [],
   "source": [
    "model=Model(2)\n",
    "pre=model.forward_pass(x)\n",
    "loss=model.compute_loss(pre,y)"
   ]
  },
  {
   "cell_type": "code",
   "execution_count": 12,
   "id": "6bbd1641",
   "metadata": {
    "execution": {
     "iopub.execute_input": "2024-12-30T19:08:45.457748Z",
     "iopub.status.busy": "2024-12-30T19:08:45.457355Z",
     "iopub.status.idle": "2024-12-30T19:08:45.463777Z",
     "shell.execute_reply": "2024-12-30T19:08:45.462818Z"
    },
    "papermill": {
     "duration": 0.015302,
     "end_time": "2024-12-30T19:08:45.465295",
     "exception": false,
     "start_time": "2024-12-30T19:08:45.449993",
     "status": "completed"
    },
    "tags": []
   },
   "outputs": [
    {
     "data": {
      "text/plain": [
       "6.725451069349988"
      ]
     },
     "execution_count": 12,
     "metadata": {},
     "output_type": "execute_result"
    }
   ],
   "source": [
    "loss"
   ]
  },
  {
   "cell_type": "markdown",
   "id": "422f894c",
   "metadata": {
    "papermill": {
     "duration": 0.006496,
     "end_time": "2024-12-30T19:08:45.478637",
     "exception": false,
     "start_time": "2024-12-30T19:08:45.472141",
     "status": "completed"
    },
    "tags": []
   },
   "source": [
    "# Task 6: Backward Pass\n",
    "\n",
    "The gradient of loss with respect to bias can be calculated with:\n",
    "\n",
    "$\n",
    "\\begin{equation}\n",
    "\\frac{dJ}{db} = \\frac{1}{m} \\sum_{i=1}^{m} (\\hat{y^{(i)}} - y^{(i)})\n",
    "\\end{equation}\n",
    "$\n",
    "\n",
    "$\n",
    "\\begin{equation}\n",
    "\\frac{dJ}{dW_j} = \\frac{1}{m} \\sum_{i=1}^{m} (\\hat{y^{(i)}} - y^{(i)}).x_j^{(i)}\n",
    "\\end{equation}\n",
    "$"
   ]
  },
  {
   "cell_type": "code",
   "execution_count": 13,
   "id": "26b44976",
   "metadata": {
    "execution": {
     "iopub.execute_input": "2024-12-30T19:08:45.492968Z",
     "iopub.status.busy": "2024-12-30T19:08:45.492565Z",
     "iopub.status.idle": "2024-12-30T19:08:45.497710Z",
     "shell.execute_reply": "2024-12-30T19:08:45.496689Z"
    },
    "papermill": {
     "duration": 0.014311,
     "end_time": "2024-12-30T19:08:45.499616",
     "exception": false,
     "start_time": "2024-12-30T19:08:45.485305",
     "status": "completed"
    },
    "tags": []
   },
   "outputs": [],
   "source": [
    "class Model(Model):\n",
    "    def backward_pass(self,x,y_hat,y_true):\n",
    "        m=y_true.shape[0]\n",
    "        db=(1/m)*(np.sum(y_hat-y_true))\n",
    "        dw=(1/m)*(np.sum(np.dot(np.transpose(y_hat-y_true),x),axis=0))\n",
    "        return dw,db"
   ]
  },
  {
   "cell_type": "code",
   "execution_count": 14,
   "id": "ba9d8723",
   "metadata": {
    "execution": {
     "iopub.execute_input": "2024-12-30T19:08:45.514609Z",
     "iopub.status.busy": "2024-12-30T19:08:45.514182Z",
     "iopub.status.idle": "2024-12-30T19:08:45.519591Z",
     "shell.execute_reply": "2024-12-30T19:08:45.518550Z"
    },
    "papermill": {
     "duration": 0.015199,
     "end_time": "2024-12-30T19:08:45.521436",
     "exception": false,
     "start_time": "2024-12-30T19:08:45.506237",
     "status": "completed"
    },
    "tags": []
   },
   "outputs": [],
   "source": [
    "x,y=generate_examples()\n",
    "\n",
    "model = Model(2)\n",
    "y_hat = model.forward_pass(x)\n",
    "\n",
    "dw,db = model.backward_pass(x,y_hat,y)"
   ]
  },
  {
   "cell_type": "code",
   "execution_count": 15,
   "id": "a0dd31a2",
   "metadata": {
    "execution": {
     "iopub.execute_input": "2024-12-30T19:08:45.536372Z",
     "iopub.status.busy": "2024-12-30T19:08:45.535980Z",
     "iopub.status.idle": "2024-12-30T19:08:45.542479Z",
     "shell.execute_reply": "2024-12-30T19:08:45.541453Z"
    },
    "papermill": {
     "duration": 0.016133,
     "end_time": "2024-12-30T19:08:45.544224",
     "exception": false,
     "start_time": "2024-12-30T19:08:45.528091",
     "status": "completed"
    },
    "tags": []
   },
   "outputs": [
    {
     "data": {
      "text/plain": [
       "(array([-1.4009566 ,  2.01701942]), -2.6294811752275957)"
      ]
     },
     "execution_count": 15,
     "metadata": {},
     "output_type": "execute_result"
    }
   ],
   "source": [
    "dw,db"
   ]
  },
  {
   "cell_type": "markdown",
   "id": "6d133b46",
   "metadata": {
    "papermill": {
     "duration": 0.00654,
     "end_time": "2024-12-30T19:08:45.557897",
     "exception": false,
     "start_time": "2024-12-30T19:08:45.551357",
     "status": "completed"
    },
    "tags": []
   },
   "source": [
    "# Task 7: Update Parameters"
   ]
  },
  {
   "cell_type": "code",
   "execution_count": 16,
   "id": "6e718cc2",
   "metadata": {
    "execution": {
     "iopub.execute_input": "2024-12-30T19:08:45.572927Z",
     "iopub.status.busy": "2024-12-30T19:08:45.572557Z",
     "iopub.status.idle": "2024-12-30T19:08:45.577269Z",
     "shell.execute_reply": "2024-12-30T19:08:45.576242Z"
    },
    "papermill": {
     "duration": 0.014313,
     "end_time": "2024-12-30T19:08:45.579112",
     "exception": false,
     "start_time": "2024-12-30T19:08:45.564799",
     "status": "completed"
    },
    "tags": []
   },
   "outputs": [],
   "source": [
    "class Model(Model):\n",
    "    def update_params(self,dw,db,alpha):\n",
    "        self.w=self.w-alpha*np.reshape(dw,(self.num_features,1))\n",
    "        self.b=self.b-db"
   ]
  },
  {
   "cell_type": "markdown",
   "id": "45fbb7c3",
   "metadata": {
    "papermill": {
     "duration": 0.006546,
     "end_time": "2024-12-30T19:08:45.592639",
     "exception": false,
     "start_time": "2024-12-30T19:08:45.586093",
     "status": "completed"
    },
    "tags": []
   },
   "source": [
    "# Task 8: Training Loop"
   ]
  },
  {
   "cell_type": "code",
   "execution_count": 17,
   "id": "bf961720",
   "metadata": {
    "execution": {
     "iopub.execute_input": "2024-12-30T19:08:45.607752Z",
     "iopub.status.busy": "2024-12-30T19:08:45.607267Z",
     "iopub.status.idle": "2024-12-30T19:08:45.613398Z",
     "shell.execute_reply": "2024-12-30T19:08:45.612352Z"
    },
    "papermill": {
     "duration": 0.015771,
     "end_time": "2024-12-30T19:08:45.615217",
     "exception": false,
     "start_time": "2024-12-30T19:08:45.599446",
     "status": "completed"
    },
    "tags": []
   },
   "outputs": [],
   "source": [
    "class Model(Model):\n",
    "    def train(self,x_train,y_train,alpha,iters):\n",
    "        losses=list()\n",
    "        for i in range(iters):\n",
    "            y_hat=self.forward_pass(x_train)\n",
    "            loss=self.compute_loss(y_hat,y_train)\n",
    "            dw,db=self.backward_pass(x_train,y_hat,y_train)\n",
    "            self.update_params(dw,db,alpha)\n",
    "            losses.append(loss)\n",
    "            if i%int(iters/10)==0:\n",
    "                print(f'for iteration {i} the loss is {loss:.4f}')\n",
    "        return losses\n",
    "            "
   ]
  },
  {
   "cell_type": "code",
   "execution_count": 18,
   "id": "d42150fe",
   "metadata": {
    "execution": {
     "iopub.execute_input": "2024-12-30T19:08:45.631311Z",
     "iopub.status.busy": "2024-12-30T19:08:45.630987Z",
     "iopub.status.idle": "2024-12-30T19:08:45.635011Z",
     "shell.execute_reply": "2024-12-30T19:08:45.634062Z"
    },
    "papermill": {
     "duration": 0.0134,
     "end_time": "2024-12-30T19:08:45.636646",
     "exception": false,
     "start_time": "2024-12-30T19:08:45.623246",
     "status": "completed"
    },
    "tags": []
   },
   "outputs": [],
   "source": [
    "model=Model(2)"
   ]
  },
  {
   "cell_type": "code",
   "execution_count": 19,
   "id": "15f2721c",
   "metadata": {
    "execution": {
     "iopub.execute_input": "2024-12-30T19:08:45.652452Z",
     "iopub.status.busy": "2024-12-30T19:08:45.652073Z",
     "iopub.status.idle": "2024-12-30T19:08:45.656426Z",
     "shell.execute_reply": "2024-12-30T19:08:45.655380Z"
    },
    "papermill": {
     "duration": 0.013824,
     "end_time": "2024-12-30T19:08:45.658281",
     "exception": false,
     "start_time": "2024-12-30T19:08:45.644457",
     "status": "completed"
    },
    "tags": []
   },
   "outputs": [],
   "source": [
    "x_train,y_train=generate_examples()"
   ]
  },
  {
   "cell_type": "code",
   "execution_count": 20,
   "id": "ca3dad71",
   "metadata": {
    "execution": {
     "iopub.execute_input": "2024-12-30T19:08:45.673773Z",
     "iopub.status.busy": "2024-12-30T19:08:45.673360Z",
     "iopub.status.idle": "2024-12-30T19:08:45.717557Z",
     "shell.execute_reply": "2024-12-30T19:08:45.716320Z"
    },
    "papermill": {
     "duration": 0.05359,
     "end_time": "2024-12-30T19:08:45.719319",
     "exception": false,
     "start_time": "2024-12-30T19:08:45.665729",
     "status": "completed"
    },
    "tags": []
   },
   "outputs": [
    {
     "name": "stdout",
     "output_type": "stream",
     "text": [
      "for iteration 0 the loss is 8.5103\n",
      "for iteration 100 the loss is 4.4493\n",
      "for iteration 200 the loss is 2.4013\n",
      "for iteration 300 the loss is 1.2960\n",
      "for iteration 400 the loss is 0.6995\n",
      "for iteration 500 the loss is 0.3776\n",
      "for iteration 600 the loss is 0.2038\n",
      "for iteration 700 the loss is 0.1100\n",
      "for iteration 800 the loss is 0.0594\n",
      "for iteration 900 the loss is 0.0321\n"
     ]
    }
   ],
   "source": [
    "losses=model.train(x_train,y_train, 3e-3 ,1000)"
   ]
  },
  {
   "cell_type": "code",
   "execution_count": 21,
   "id": "7aeae8fa",
   "metadata": {
    "execution": {
     "iopub.execute_input": "2024-12-30T19:08:45.734703Z",
     "iopub.status.busy": "2024-12-30T19:08:45.734298Z",
     "iopub.status.idle": "2024-12-30T19:08:45.975365Z",
     "shell.execute_reply": "2024-12-30T19:08:45.974195Z"
    },
    "papermill": {
     "duration": 0.250393,
     "end_time": "2024-12-30T19:08:45.977081",
     "exception": false,
     "start_time": "2024-12-30T19:08:45.726688",
     "status": "completed"
    },
    "tags": []
   },
   "outputs": [
    {
     "data": {
      "text/plain": [
       "[<matplotlib.lines.Line2D at 0x7d9ab990aec0>]"
      ]
     },
     "execution_count": 21,
     "metadata": {},
     "output_type": "execute_result"
    },
    {
     "data": {
      "image/png": "[encoded data removed]",
      "text/plain": [
       "<Figure size 640x480 with 1 Axes>"
      ]
     },
     "metadata": {},
     "output_type": "display_data"
    }
   ],
   "source": [
    "plt.plot(losses)"
   ]
  },
  {
   "cell_type": "markdown",
   "id": "3eb7638b",
   "metadata": {
    "papermill": {
     "duration": 0.007841,
     "end_time": "2024-12-30T19:08:45.994356",
     "exception": false,
     "start_time": "2024-12-30T19:08:45.986515",
     "status": "completed"
    },
    "tags": []
   },
   "source": [
    "# Task 9: Predictions"
   ]
  },
  {
   "cell_type": "code",
   "execution_count": 22,
   "id": "6c37b6be",
   "metadata": {
    "execution": {
     "iopub.execute_input": "2024-12-30T19:08:46.011127Z",
     "iopub.status.busy": "2024-12-30T19:08:46.010756Z",
     "iopub.status.idle": "2024-12-30T19:08:46.017061Z",
     "shell.execute_reply": "2024-12-30T19:08:46.015848Z"
    },
    "papermill": {
     "duration": 0.016689,
     "end_time": "2024-12-30T19:08:46.018833",
     "exception": false,
     "start_time": "2024-12-30T19:08:46.002144",
     "status": "completed"
    },
    "tags": []
   },
   "outputs": [
    {
     "name": "stdout",
     "output_type": "stream",
     "text": [
      "(500, 2) (500, 1)\n"
     ]
    }
   ],
   "source": [
    "model_untrained=Model(2)\n",
    "\n",
    "x_test,y_test=generate_examples(500)\n",
    "\n",
    "print(x_test.shape,y_test.shape)"
   ]
  },
  {
   "cell_type": "code",
   "execution_count": 23,
   "id": "07367d14",
   "metadata": {
    "execution": {
     "iopub.execute_input": "2024-12-30T19:08:46.036628Z",
     "iopub.status.busy": "2024-12-30T19:08:46.036231Z",
     "iopub.status.idle": "2024-12-30T19:08:46.040642Z",
     "shell.execute_reply": "2024-12-30T19:08:46.039646Z"
    },
    "papermill": {
     "duration": 0.015033,
     "end_time": "2024-12-30T19:08:46.042305",
     "exception": false,
     "start_time": "2024-12-30T19:08:46.027272",
     "status": "completed"
    },
    "tags": []
   },
   "outputs": [],
   "source": [
    "predictions_untrained=model_untrained.forward_pass(x_test)\n",
    "predictions_trained=model.forward_pass(x_test)"
   ]
  },
  {
   "cell_type": "code",
   "execution_count": 24,
   "id": "02519b39",
   "metadata": {
    "execution": {
     "iopub.execute_input": "2024-12-30T19:08:46.059233Z",
     "iopub.status.busy": "2024-12-30T19:08:46.058845Z",
     "iopub.status.idle": "2024-12-30T19:08:46.316460Z",
     "shell.execute_reply": "2024-12-30T19:08:46.315462Z"
    },
    "papermill": {
     "duration": 0.267888,
     "end_time": "2024-12-30T19:08:46.318227",
     "exception": false,
     "start_time": "2024-12-30T19:08:46.050339",
     "status": "completed"
    },
    "tags": []
   },
   "outputs": [
    {
     "data": {
      "image/png": "[encoded data removed]",
      "text/plain": [
       "<Figure size 600x600 with 1 Axes>"
      ]
     },
     "metadata": {},
     "output_type": "display_data"
    }
   ],
   "source": [
    "plt.figure(figsize=(6,6))\n",
    "plt.plot(predictions_untrained,y_test,'rx',label='Un Trained Model')\n",
    "plt.plot(predictions_trained,y_test,'b.',label='Trained Model')\n",
    "plt.xlabel('Predictions')\n",
    "plt.ylabel('Ground True')\n",
    "plt.legend()\n",
    "plt.show()"
   ]
  }
 ],
 "metadata": {
  "kaggle": {
   "accelerator": "none",
   "dataSources": [],
   "dockerImageVersionId": 30822,
   "isGpuEnabled": false,
   "isInternetEnabled": true,
   "language": "python",
   "sourceType": "notebook"
  },
  "kernelspec": {
   "display_name": "Python 3 (ipykernel)",
   "language": "python",
   "name": "python3"
  },
  "language_info": {
   "codemirror_mode": {
    "name": "ipython",
    "version": 3
   },
   "file_extension": ".py",
   "mimetype": "text/x-python",
   "name": "python",
   "nbconvert_exporter": "python",
   "pygments_lexer": "ipython3",
   "version": "3.10.12"
  },
  "papermill": {
   "default_parameters": {},
   "duration": 3.827797,
   "end_time": "2024-12-30T19:08:46.746352",
   "environment_variables": {},
   "exception": null,
   "input_path": "__notebook__.ipynb",
   "output_path": "__notebook__.ipynb",
   "parameters": {},
   "start_time": "2024-12-30T19:08:42.918555",
   "version": "2.6.0"
  }
 },
 "nbformat": 4,
 "nbformat_minor": 5
}
